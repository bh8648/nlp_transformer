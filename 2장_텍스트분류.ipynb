{
 "cells": [
  {
   "cell_type": "markdown",
   "id": "b556aa9a",
   "metadata": {},
   "source": [
    "토큰 인코딩: 토큰에 숫자를 부여  \n",
    "토큰 임베딩: 토큰에 부여된 숫자에 의미를 부여\n",
    "\n",
    "체크포인트: 트랜스포머 아키텍처로 로드되는 일련의 가중치\n",
    "\n",
    "트랜스포머 모델을 훈련하는 전형적인 파이프라인\n",
    "데이터셋(데이터셋 로드하고 전처리하기) -> 토크나이저(입력 텍스트를 토큰화하기) -> 트랜스포머스(모델을 로드, 훈련, 추론하기) -> 데이터셋 (측정 도구를 로드하고 모델을 평가하기)"
   ]
  },
  {
   "cell_type": "markdown",
   "id": "e419505b",
   "metadata": {},
   "source": [
    "# 2.1) 데이터셋\n",
    "허깅 페이스 데이터셋 처음 사용하기"
   ]
  },
  {
   "cell_type": "code",
   "execution_count": 1,
   "id": "655fd526",
   "metadata": {},
   "outputs": [
    {
     "name": "stderr",
     "output_type": "stream",
     "text": [
      "/home/jj/anaconda3/envs/deep/lib/python3.9/site-packages/tqdm/auto.py:21: TqdmWarning: IProgress not found. Please update jupyter and ipywidgets. See https://ipywidgets.readthedocs.io/en/stable/user_install.html\n",
      "  from .autonotebook import tqdm as notebook_tqdm\n",
      "/tmp/ipykernel_4474/3666915235.py:3: FutureWarning: list_datasets is deprecated and will be removed in the next major version of datasets. Use 'huggingface_hub.list_datasets' instead.\n",
      "  all_datasets = list_datasets()\n"
     ]
    },
    {
     "name": "stdout",
     "output_type": "stream",
     "text": [
      "현재 허브에는 46240개의 데이터셋이 있습니다.\n",
      "처음 10개 데이터셋: ['acronym_identification', 'ade_corpus_v2', 'adversarial_qa', 'aeslc', 'afrikaans_ner_corpus', 'ag_news', 'ai2_arc', 'air_dialogue', 'ajgt_twitter_ar', 'allegro_reviews']\n"
     ]
    }
   ],
   "source": [
    "from datasets import list_datasets\n",
    "\n",
    "all_datasets = list_datasets()\n",
    "print(f\"현재 허브에는 {len(all_datasets)}개의 데이터셋이 있습니다.\")\n",
    "print(f\"처음 10개 데이터셋: {all_datasets[:10]}\")"
   ]
  },
  {
   "cell_type": "code",
   "execution_count": 2,
   "id": "eb563dd4",
   "metadata": {},
   "outputs": [
    {
     "name": "stderr",
     "output_type": "stream",
     "text": [
      "No config specified, defaulting to: emotion/split\n",
      "Found cached dataset emotion (/home/jj/.cache/huggingface/datasets/emotion/split/1.0.0/cca5efe2dfeb58c1d098e0f9eeb200e9927d889b5a03c67097275dfb5fe463bd)\n",
      "100%|██████████████████████████████████████████████████████████████████████████████████████████████████| 3/3 [00:00<00:00, 415.39it/s]\n"
     ]
    }
   ],
   "source": [
    "from datasets import load_dataset\n",
    "\n",
    "# emotion 데이터셋이 다운로드되지 않으면 SetFit/emotion을 사용합니다.\n",
    "emotions = load_dataset(\"emotion\")\n",
    "\n",
    "# emotions = load_dataset(\"emotion\")을 emotions = load_datasets(\"SetFit/emotion\")으로 수정할 경우\n",
    "# SetFit/emotion의 label 특성은 ClassLabel 객체가 아닙니다. 수동으로 ClassLabel 객체를 만들어 주세요.\n",
    "# from datasets import ClassLabel\n",
    "# emotions['train'].features['label'] = ClassLabel(\n",
    "# num_classes=6,\n",
    "# names=['sadness', 'joy', 'love', 'anger', 'fear', 'surprise'])"
   ]
  },
  {
   "cell_type": "code",
   "execution_count": 3,
   "id": "5af3cca8",
   "metadata": {},
   "outputs": [
    {
     "data": {
      "text/plain": [
       "DatasetDict({\n",
       "    train: Dataset({\n",
       "        features: ['text', 'label'],\n",
       "        num_rows: 16000\n",
       "    })\n",
       "    validation: Dataset({\n",
       "        features: ['text', 'label'],\n",
       "        num_rows: 2000\n",
       "    })\n",
       "    test: Dataset({\n",
       "        features: ['text', 'label'],\n",
       "        num_rows: 2000\n",
       "    })\n",
       "})"
      ]
     },
     "execution_count": 3,
     "metadata": {},
     "output_type": "execute_result"
    }
   ],
   "source": [
    "emotions"
   ]
  },
  {
   "cell_type": "code",
   "execution_count": 4,
   "id": "9ac43e06",
   "metadata": {},
   "outputs": [
    {
     "data": {
      "text/plain": [
       "Dataset({\n",
       "    features: ['text', 'label'],\n",
       "    num_rows: 16000\n",
       "})"
      ]
     },
     "execution_count": 4,
     "metadata": {},
     "output_type": "execute_result"
    }
   ],
   "source": [
    "train_ds = emotions[\"train\"]\n",
    "train_ds"
   ]
  },
  {
   "cell_type": "code",
   "execution_count": 5,
   "id": "2006c035",
   "metadata": {},
   "outputs": [
    {
     "data": {
      "text/plain": [
       "16000"
      ]
     },
     "execution_count": 5,
     "metadata": {},
     "output_type": "execute_result"
    }
   ],
   "source": [
    "len(train_ds)"
   ]
  },
  {
   "cell_type": "code",
   "execution_count": 6,
   "id": "c2ab7e8a",
   "metadata": {},
   "outputs": [
    {
     "data": {
      "text/plain": [
       "{'text': 'i didnt feel humiliated', 'label': 0}"
      ]
     },
     "execution_count": 6,
     "metadata": {},
     "output_type": "execute_result"
    }
   ],
   "source": [
    "train_ds[0]"
   ]
  },
  {
   "cell_type": "code",
   "execution_count": 7,
   "id": "3b16c15d",
   "metadata": {},
   "outputs": [
    {
     "data": {
      "text/plain": [
       "['text', 'label']"
      ]
     },
     "execution_count": 7,
     "metadata": {},
     "output_type": "execute_result"
    }
   ],
   "source": [
    "train_ds.column_names"
   ]
  },
  {
   "cell_type": "code",
   "execution_count": 8,
   "id": "52c1f106",
   "metadata": {},
   "outputs": [
    {
     "name": "stdout",
     "output_type": "stream",
     "text": [
      "{'text': Value(dtype='string', id=None), 'label': ClassLabel(names=['sadness', 'joy', 'love', 'anger', 'fear', 'surprise'], id=None)}\n"
     ]
    }
   ],
   "source": [
    "print(train_ds.features)"
   ]
  },
  {
   "cell_type": "code",
   "execution_count": 9,
   "id": "204724b4",
   "metadata": {},
   "outputs": [
    {
     "name": "stdout",
     "output_type": "stream",
     "text": [
      "{'text': ['i didnt feel humiliated', 'i can go from feeling so hopeless to so damned hopeful just from being around someone who cares and is awake', 'im grabbing a minute to post i feel greedy wrong', 'i am ever feeling nostalgic about the fireplace i will know that it is still on the property', 'i am feeling grouchy'], 'label': [0, 0, 3, 2, 3]}\n"
     ]
    }
   ],
   "source": [
    "print(train_ds[:5])"
   ]
  },
  {
   "cell_type": "code",
   "execution_count": 10,
   "id": "0e59eaba",
   "metadata": {},
   "outputs": [
    {
     "name": "stdout",
     "output_type": "stream",
     "text": [
      "['i didnt feel humiliated', 'i can go from feeling so hopeless to so damned hopeful just from being around someone who cares and is awake', 'im grabbing a minute to post i feel greedy wrong', 'i am ever feeling nostalgic about the fireplace i will know that it is still on the property', 'i am feeling grouchy']\n"
     ]
    }
   ],
   "source": [
    "print(train_ds[\"text\"][:5])"
   ]
  },
  {
   "cell_type": "markdown",
   "id": "0fe86df3",
   "metadata": {},
   "source": [
    "### 데이터셋에서 데이터프레임으로"
   ]
  },
  {
   "cell_type": "code",
   "execution_count": 11,
   "id": "f3f66e6a",
   "metadata": {
    "scrolled": false
   },
   "outputs": [
    {
     "data": {
      "text/html": [
       "<div>\n",
       "<style scoped>\n",
       "    .dataframe tbody tr th:only-of-type {\n",
       "        vertical-align: middle;\n",
       "    }\n",
       "\n",
       "    .dataframe tbody tr th {\n",
       "        vertical-align: top;\n",
       "    }\n",
       "\n",
       "    .dataframe thead th {\n",
       "        text-align: right;\n",
       "    }\n",
       "</style>\n",
       "<table border=\"1\" class=\"dataframe\">\n",
       "  <thead>\n",
       "    <tr style=\"text-align: right;\">\n",
       "      <th></th>\n",
       "      <th>text</th>\n",
       "      <th>label</th>\n",
       "    </tr>\n",
       "  </thead>\n",
       "  <tbody>\n",
       "    <tr>\n",
       "      <th>0</th>\n",
       "      <td>i didnt feel humiliated</td>\n",
       "      <td>0</td>\n",
       "    </tr>\n",
       "    <tr>\n",
       "      <th>1</th>\n",
       "      <td>i can go from feeling so hopeless to so damned...</td>\n",
       "      <td>0</td>\n",
       "    </tr>\n",
       "    <tr>\n",
       "      <th>2</th>\n",
       "      <td>im grabbing a minute to post i feel greedy wrong</td>\n",
       "      <td>3</td>\n",
       "    </tr>\n",
       "    <tr>\n",
       "      <th>3</th>\n",
       "      <td>i am ever feeling nostalgic about the fireplac...</td>\n",
       "      <td>2</td>\n",
       "    </tr>\n",
       "    <tr>\n",
       "      <th>4</th>\n",
       "      <td>i am feeling grouchy</td>\n",
       "      <td>3</td>\n",
       "    </tr>\n",
       "  </tbody>\n",
       "</table>\n",
       "</div>"
      ],
      "text/plain": [
       "                                                text  label\n",
       "0                            i didnt feel humiliated      0\n",
       "1  i can go from feeling so hopeless to so damned...      0\n",
       "2   im grabbing a minute to post i feel greedy wrong      3\n",
       "3  i am ever feeling nostalgic about the fireplac...      2\n",
       "4                               i am feeling grouchy      3"
      ]
     },
     "execution_count": 11,
     "metadata": {},
     "output_type": "execute_result"
    }
   ],
   "source": [
    "import pandas as pd\n",
    "\n",
    "emotions.set_format(type=\"pandas\")\n",
    "df = emotions[\"train\"][:]\n",
    "df.head()"
   ]
  },
  {
   "cell_type": "code",
   "execution_count": 12,
   "id": "ed6a75c0",
   "metadata": {},
   "outputs": [
    {
     "data": {
      "text/plain": [
       "datasets.features.features.ClassLabel"
      ]
     },
     "execution_count": 12,
     "metadata": {},
     "output_type": "execute_result"
    }
   ],
   "source": [
    "emotions[\"train\"].features['label'].__class__"
   ]
  },
  {
   "cell_type": "code",
   "execution_count": 13,
   "id": "fcdae7b3",
   "metadata": {},
   "outputs": [
    {
     "data": {
      "text/html": [
       "<div>\n",
       "<style scoped>\n",
       "    .dataframe tbody tr th:only-of-type {\n",
       "        vertical-align: middle;\n",
       "    }\n",
       "\n",
       "    .dataframe tbody tr th {\n",
       "        vertical-align: top;\n",
       "    }\n",
       "\n",
       "    .dataframe thead th {\n",
       "        text-align: right;\n",
       "    }\n",
       "</style>\n",
       "<table border=\"1\" class=\"dataframe\">\n",
       "  <thead>\n",
       "    <tr style=\"text-align: right;\">\n",
       "      <th></th>\n",
       "      <th>text</th>\n",
       "      <th>label</th>\n",
       "      <th>label_name</th>\n",
       "    </tr>\n",
       "  </thead>\n",
       "  <tbody>\n",
       "    <tr>\n",
       "      <th>0</th>\n",
       "      <td>i didnt feel humiliated</td>\n",
       "      <td>0</td>\n",
       "      <td>sadness</td>\n",
       "    </tr>\n",
       "    <tr>\n",
       "      <th>1</th>\n",
       "      <td>i can go from feeling so hopeless to so damned...</td>\n",
       "      <td>0</td>\n",
       "      <td>sadness</td>\n",
       "    </tr>\n",
       "    <tr>\n",
       "      <th>2</th>\n",
       "      <td>im grabbing a minute to post i feel greedy wrong</td>\n",
       "      <td>3</td>\n",
       "      <td>anger</td>\n",
       "    </tr>\n",
       "    <tr>\n",
       "      <th>3</th>\n",
       "      <td>i am ever feeling nostalgic about the fireplac...</td>\n",
       "      <td>2</td>\n",
       "      <td>love</td>\n",
       "    </tr>\n",
       "    <tr>\n",
       "      <th>4</th>\n",
       "      <td>i am feeling grouchy</td>\n",
       "      <td>3</td>\n",
       "      <td>anger</td>\n",
       "    </tr>\n",
       "  </tbody>\n",
       "</table>\n",
       "</div>"
      ],
      "text/plain": [
       "                                                text  label label_name\n",
       "0                            i didnt feel humiliated      0    sadness\n",
       "1  i can go from feeling so hopeless to so damned...      0    sadness\n",
       "2   im grabbing a minute to post i feel greedy wrong      3      anger\n",
       "3  i am ever feeling nostalgic about the fireplac...      2       love\n",
       "4                               i am feeling grouchy      3      anger"
      ]
     },
     "execution_count": 13,
     "metadata": {},
     "output_type": "execute_result"
    }
   ],
   "source": [
    "def label_int2str(row):\n",
    "    return emotions[\"train\"].features[\"label\"].int2str(row)\n",
    "\n",
    "df[\"label_name\"] = df[\"label\"].apply(label_int2str)\n",
    "df.head()"
   ]
  },
  {
   "cell_type": "markdown",
   "id": "a1b0b5b3",
   "metadata": {},
   "source": [
    "### 클래스 분포 살펴보기"
   ]
  },
  {
   "cell_type": "code",
   "execution_count": 14,
   "id": "8edb34e0",
   "metadata": {},
   "outputs": [
    {
     "data": {
      "image/png": "[encoded data removed]",
      "text/plain": [
       "<Figure size 640x480 with 1 Axes>"
      ]
     },
     "metadata": {},
     "output_type": "display_data"
    }
   ],
   "source": [
    "import matplotlib.pyplot as plt\n",
    "\n",
    "df[\"label_name\"].value_counts(ascending=True).plot.barh()\n",
    "plt.title(\"Frequency of Classes\")\n",
    "plt.show()"
   ]
  },
  {
   "cell_type": "markdown",
   "id": "9b5b589e",
   "metadata": {},
   "source": [
    "### 트윗 길이 확인"
   ]
  },
  {
   "cell_type": "code",
   "execution_count": 15,
   "id": "5d2467ab",
   "metadata": {
    "scrolled": false
   },
   "outputs": [
    {
     "data": {
      "text/plain": [
       "<Axes: title={'center': 'Words Per Tweet'}, xlabel='label_name'>"
      ]
     },
     "execution_count": 15,
     "metadata": {},
     "output_type": "execute_result"
    },
    {
     "data": {
      "image/png": "[encoded data removed]",
      "text/plain": [
       "<Figure size 640x480 with 1 Axes>"
      ]
     },
     "metadata": {},
     "output_type": "display_data"
    }
   ],
   "source": [
    "# 단어의 개수로 토큰의 수를 대략적으로 추정한다음\n",
    "# 트윗당 단어 분포를 보고 감정에 따른 트윗 길이를 추정\n",
    "\n",
    "df[\"Words Per Tweet\"] = df[\"text\"].str.split().apply(len)\n",
    "df.boxplot(\"Words Per Tweet\", by=\"label_name\", grid=False,\n",
    "          showfliers=False, color=\"black\")"
   ]
  },
  {
   "cell_type": "markdown",
   "id": "5b748fe6",
   "metadata": {},
   "source": [
    "그래프를 보면 각 감정의 트윗 길이는 15개 단어 정도임.\n",
    "가장 긴 트윗도 DistilBERT의 최대 문맥 크기보다 더 작다 (DistilBERT의 최대 문맥 크기는 512 토큰임)"
   ]
  },
  {
   "cell_type": "code",
   "execution_count": 16,
   "id": "9cc1a05a",
   "metadata": {},
   "outputs": [],
   "source": [
    "emotions.reset_format()"
   ]
  },
  {
   "cell_type": "markdown",
   "id": "fcb3624f",
   "metadata": {},
   "source": [
    "# 2.2) 텍스트에서 토큰으로"
   ]
  },
  {
   "cell_type": "markdown",
   "id": "9bd94198",
   "metadata": {},
   "source": [
    "## 문자 토큰화"
   ]
  },
  {
   "cell_type": "code",
   "execution_count": 17,
   "id": "59e358c2",
   "metadata": {},
   "outputs": [
    {
     "name": "stdout",
     "output_type": "stream",
     "text": [
      "['T', 'o', 'k', 'e', 'n', 'i', 'z', 'i', 'n', 'g', ' ', 't', 'e', 'x', 't', ' ', 'i', 's', ' ', 'a', ' ', 'c', 'o', 'r', 'e', ' ', 't', 'a', 's', 'k', ' ', 'o', 'f', ' ', 'N', 'L', 'P', '.']\n"
     ]
    }
   ],
   "source": [
    "text = \"Tokenizing text is a core task of NLP.\"\n",
    "tokenized_text = list(text)\n",
    "print(tokenized_text)"
   ]
  },
  {
   "cell_type": "markdown",
   "id": "290698a5",
   "metadata": {},
   "source": [
    "모델은 각 문자가 정수로 변환되리라 기대한다.\n",
    "이런 과정을 수치화 (numericalization)라고 한다."
   ]
  },
  {
   "cell_type": "code",
   "execution_count": 18,
   "id": "ac9496d4",
   "metadata": {},
   "outputs": [
    {
     "name": "stdout",
     "output_type": "stream",
     "text": [
      "{' ': 0, '.': 1, 'L': 2, 'N': 3, 'P': 4, 'T': 5, 'a': 6, 'c': 7, 'e': 8, 'f': 9, 'g': 10, 'i': 11, 'k': 12, 'n': 13, 'o': 14, 'r': 15, 's': 16, 't': 17, 'x': 18, 'z': 19}\n"
     ]
    }
   ],
   "source": [
    "token2idx = {ch: idx for idx, ch in enumerate(sorted(set(tokenized_text)))}\n",
    "print(token2idx)"
   ]
  },
  {
   "cell_type": "code",
   "execution_count": 19,
   "id": "117c197c",
   "metadata": {},
   "outputs": [
    {
     "name": "stdout",
     "output_type": "stream",
     "text": [
      "[5, 14, 12, 8, 13, 11, 19, 11, 13, 10, 0, 17, 8, 18, 17, 0, 11, 16, 0, 6, 0, 7, 14, 15, 8, 0, 17, 6, 16, 12, 0, 14, 9, 0, 3, 2, 4, 1]\n"
     ]
    }
   ],
   "source": [
    "input_ids = [token2idx[token] for token in tokenized_text]\n",
    "print(input_ids)\n",
    "# print(len(input_ids)) # 38"
   ]
  },
  {
   "cell_type": "code",
   "execution_count": 20,
   "id": "63994aaa",
   "metadata": {},
   "outputs": [
    {
     "data": {
      "text/plain": [
       "torch.Size([38, 20])"
      ]
     },
     "execution_count": 20,
     "metadata": {},
     "output_type": "execute_result"
    }
   ],
   "source": [
    "import torch\n",
    "import torch.nn.functional as F\n",
    "\n",
    "input_ids = torch.tensor(input_ids)\n",
    "one_hot_encodings = F.one_hot(input_ids, num_classes=len(token2idx))\n",
    "one_hot_encodings.shape"
   ]
  },
  {
   "cell_type": "code",
   "execution_count": 21,
   "id": "b45f024f",
   "metadata": {},
   "outputs": [
    {
     "name": "stdout",
     "output_type": "stream",
     "text": [
      "토큰: T\n",
      "텐서 인덱스: 5\n",
      "원-핫 인코딩: tensor([0, 0, 0, 0, 0, 1, 0, 0, 0, 0, 0, 0, 0, 0, 0, 0, 0, 0, 0, 0])\n"
     ]
    }
   ],
   "source": [
    "print(f\"토큰: {tokenized_text[0]}\")\n",
    "print(f\"텐서 인덱스: {input_ids[0]}\")\n",
    "print(f\"원-핫 인코딩: {one_hot_encodings[0]}\")"
   ]
  },
  {
   "cell_type": "markdown",
   "id": "073a5090",
   "metadata": {},
   "source": [
    "## 문자 토큰화말고 단어 토큰화"
   ]
  },
  {
   "cell_type": "code",
   "execution_count": 22,
   "id": "ea470f63",
   "metadata": {},
   "outputs": [
    {
     "name": "stdout",
     "output_type": "stream",
     "text": [
      "['Tokenizing', 'text', 'is', 'a', 'core', 'task', 'of', 'NLP.']\n"
     ]
    }
   ],
   "source": [
    "# 구두점을 어떻게 처리할지\n",
    "# great, greater, greatest는 모두 어간추출로 great로 만들 수 있다.\n",
    "tokenized_text = text.split()\n",
    "print(tokenized_text)"
   ]
  },
  {
   "cell_type": "markdown",
   "id": "82fc0930",
   "metadata": {},
   "source": [
    "## 단어 토큰화 말고 부분단어 토큰화"
   ]
  },
  {
   "cell_type": "code",
   "execution_count": 23,
   "id": "bbf1f334",
   "metadata": {
    "scrolled": false
   },
   "outputs": [],
   "source": [
    "# AutoTokenizer 클래스는 체크포인트 이름을 사용해 모델의 설정, 사전 훈련된가중치, 어휘 사전을 자동으로 추출하는 '자동 클래스'다.\n",
    "\n",
    "from transformers import AutoTokenizer\n",
    "\n",
    "model_ckpt = \"distilbert-base-uncased\"\n",
    "tokenizer = AutoTokenizer.from_pretrained(model_ckpt)"
   ]
  },
  {
   "cell_type": "code",
   "execution_count": 24,
   "id": "90fe9487",
   "metadata": {},
   "outputs": [],
   "source": [
    "# DistilBERT의 토크나이저를 로드\n",
    "from transformers import DistilBertTokenizer\n",
    "\n",
    "distilbert_tokenizer = DistilBertTokenizer.from_pretrained(model_ckpt)"
   ]
  },
  {
   "cell_type": "code",
   "execution_count": 25,
   "id": "4201d1a0",
   "metadata": {},
   "outputs": [
    {
     "name": "stdout",
     "output_type": "stream",
     "text": [
      "{'input_ids': [101, 19204, 6026, 3793, 2003, 1037, 4563, 4708, 1997, 17953, 2361, 1012, 102], 'attention_mask': [1, 1, 1, 1, 1, 1, 1, 1, 1, 1, 1, 1, 1]}\n"
     ]
    }
   ],
   "source": [
    "encoded_text = tokenizer(text)\n",
    "print(encoded_text)\n",
    "\n",
    "# 문자 토큰화처럼 단어가 input_ids 필드에 있는 고유한 정수에 매핑됨.\n",
    "# attention_mask 필드의 역할은 더 아래에서 소개"
   ]
  },
  {
   "cell_type": "code",
   "execution_count": 26,
   "id": "16f1bd92",
   "metadata": {},
   "outputs": [
    {
     "name": "stdout",
     "output_type": "stream",
     "text": [
      "['[CLS]', 'token', '##izing', 'text', 'is', 'a', 'core', 'task', 'of', 'nl', '##p', '.', '[SEP]']\n"
     ]
    }
   ],
   "source": [
    "# input_ids가 있으므로 토크나이저의 convert_ids_to_tokens() 메서드를 사용해 이를 다시 토큰으로 변환할 수 있다.\n",
    "\n",
    "tokens = tokenizer.convert_ids_to_tokens(encoded_text.input_ids)\n",
    "print(tokens)"
   ]
  },
  {
   "cell_type": "code",
   "execution_count": 27,
   "id": "b1fbb383",
   "metadata": {},
   "outputs": [
    {
     "name": "stdout",
     "output_type": "stream",
     "text": [
      "[CLS] tokenizing text is a core task of nlp. [SEP]\n"
     ]
    }
   ],
   "source": [
    "print(tokenizer.convert_tokens_to_string(tokens)) # 토큰들을 문자열로 합치는 메서드"
   ]
  },
  {
   "cell_type": "code",
   "execution_count": 28,
   "id": "983c1add",
   "metadata": {},
   "outputs": [
    {
     "data": {
      "text/plain": [
       "30522"
      ]
     },
     "execution_count": 28,
     "metadata": {},
     "output_type": "execute_result"
    }
   ],
   "source": [
    "tokenizer.vocab_size # 어휘사전의 크기"
   ]
  },
  {
   "cell_type": "code",
   "execution_count": 29,
   "id": "97956c45",
   "metadata": {},
   "outputs": [
    {
     "data": {
      "text/plain": [
       "512"
      ]
     },
     "execution_count": 29,
     "metadata": {},
     "output_type": "execute_result"
    }
   ],
   "source": [
    "tokenizer.model_max_length # 모델의 최대 문맥 크기"
   ]
  },
  {
   "cell_type": "code",
   "execution_count": 30,
   "id": "5a58a4a5",
   "metadata": {},
   "outputs": [
    {
     "data": {
      "text/plain": [
       "['input_ids', 'attention_mask']"
      ]
     },
     "execution_count": 30,
     "metadata": {},
     "output_type": "execute_result"
    }
   ],
   "source": [
    "tokenizer.model_input_names # 모델이 forward pass에서 기대하는 필드 이름"
   ]
  },
  {
   "cell_type": "markdown",
   "id": "8e9942ab",
   "metadata": {},
   "source": [
    "# 주의\n",
    "사전 훈련된 모델을 사용할 때, 모델 훈련에 사용한 것과 동일한 토크나이저를 사용하는 것이 정말 중요하다.  \n",
    "모델 입장에서 토크나이저를 바꾸는 것은 어휘사전을 뒤섞는 것이나 다름없음.  \n",
    "주변 사람들이 'house'를 'cat'이라고 하는 등 마음대로 단어를 바꾼다면 도대체 무슨 일인지 상황을 이해하지 못할 것."
   ]
  },
  {
   "cell_type": "markdown",
   "id": "5ed74024",
   "metadata": {},
   "source": [
    "## 전체 데이터셋 토큰화하기"
   ]
  },
  {
   "cell_type": "code",
   "execution_count": 31,
   "id": "6237607a",
   "metadata": {},
   "outputs": [],
   "source": [
    "# padding=True로 하면 배치에 있는 가장 긴 샘플 크기에 맞춰 샘플을 0으로 패딩한다.\n",
    "# truncation=True로 하면 모델의 최대 문맥 크기에 맞춰 샘플을 잘라낸다.\n",
    "def tokenize(batch):\n",
    "    return tokenizer(batch[\"text\"], padding=True, truncation=True)"
   ]
  },
  {
   "cell_type": "code",
   "execution_count": 32,
   "id": "120fd7a6",
   "metadata": {},
   "outputs": [
    {
     "name": "stdout",
     "output_type": "stream",
     "text": [
      "{'input_ids': [[101, 1045, 2134, 2102, 2514, 26608, 102, 0, 0, 0, 0, 0, 0, 0, 0, 0, 0, 0, 0, 0, 0, 0, 0], [101, 1045, 2064, 2175, 2013, 3110, 2061, 20625, 2000, 2061, 9636, 17772, 2074, 2013, 2108, 2105, 2619, 2040, 14977, 1998, 2003, 8300, 102]], 'attention_mask': [[1, 1, 1, 1, 1, 1, 1, 0, 0, 0, 0, 0, 0, 0, 0, 0, 0, 0, 0, 0, 0, 0, 0], [1, 1, 1, 1, 1, 1, 1, 1, 1, 1, 1, 1, 1, 1, 1, 1, 1, 1, 1, 1, 1, 1, 1]]}\n"
     ]
    }
   ],
   "source": [
    "print(tokenize(emotions[\"train\"][:2]))"
   ]
  },
  {
   "cell_type": "markdown",
   "id": "a0cebf48",
   "metadata": {},
   "source": [
    "패딩결과 input_ids의 첫 번째 원소가 두 번째보다 더 짧으므로 길이를 동일하게 맞추기 위해 끝에 0을 추가.  \n",
    "0은 어휘사전에 있는 [PAD] 토큰에 해당함."
   ]
  },
  {
   "cell_type": "code",
   "execution_count": 33,
   "id": "972f4f16",
   "metadata": {},
   "outputs": [
    {
     "name": "stderr",
     "output_type": "stream",
     "text": [
      "Loading cached processed dataset at /home/jj/.cache/huggingface/datasets/emotion/split/1.0.0/cca5efe2dfeb58c1d098e0f9eeb200e9927d889b5a03c67097275dfb5fe463bd/cache-c87b4641db56a7ee.arrow\n",
      "Loading cached processed dataset at /home/jj/.cache/huggingface/datasets/emotion/split/1.0.0/cca5efe2dfeb58c1d098e0f9eeb200e9927d889b5a03c67097275dfb5fe463bd/cache-4da02e6033454aa4.arrow\n",
      "Loading cached processed dataset at /home/jj/.cache/huggingface/datasets/emotion/split/1.0.0/cca5efe2dfeb58c1d098e0f9eeb200e9927d889b5a03c67097275dfb5fe463bd/cache-627d96256725254a.arrow\n"
     ]
    }
   ],
   "source": [
    "emotions_encoded = emotions.map(tokenize, batched=True, batch_size=None)\n",
    "# input_ids와 attention_mask 열을 새로 추가한다."
   ]
  },
  {
   "cell_type": "code",
   "execution_count": 34,
   "id": "54b72c98",
   "metadata": {},
   "outputs": [
    {
     "name": "stdout",
     "output_type": "stream",
     "text": [
      "['text', 'label', 'input_ids', 'attention_mask']\n"
     ]
    }
   ],
   "source": [
    "print(emotions_encoded[\"train\"].column_names)"
   ]
  },
  {
   "cell_type": "markdown",
   "id": "973fb047",
   "metadata": {},
   "source": [
    "# 2.3) 텍스트 분류 모델 훈련하기\n",
    "특성추출 vs 미세 튜닝"
   ]
  },
  {
   "cell_type": "markdown",
   "id": "3e6bcd4c",
   "metadata": {},
   "source": [
    "## 트랜스포머를 특성 추출기로 사용하기\n",
    "훈련하는 동안 바디의 가중치를 동결하고 은닉 상태를 분류 모델의 특성으로 사용"
   ]
  },
  {
   "cell_type": "markdown",
   "id": "e7cc02b1",
   "metadata": {},
   "source": [
    "### 사전 훈련된 모델 사용하기"
   ]
  },
  {
   "cell_type": "code",
   "execution_count": 35,
   "id": "5b100bd7",
   "metadata": {},
   "outputs": [
    {
     "name": "stderr",
     "output_type": "stream",
     "text": [
      "Some weights of the model checkpoint at distilbert-base-uncased were not used when initializing DistilBertModel: ['vocab_layer_norm.weight', 'vocab_transform.weight', 'vocab_layer_norm.bias', 'vocab_projector.bias', 'vocab_transform.bias']\n",
      "- This IS expected if you are initializing DistilBertModel from the checkpoint of a model trained on another task or with another architecture (e.g. initializing a BertForSequenceClassification model from a BertForPreTraining model).\n",
      "- This IS NOT expected if you are initializing DistilBertModel from the checkpoint of a model that you expect to be exactly identical (initializing a BertForSequenceClassification model from a BertForSequenceClassification model).\n"
     ]
    }
   ],
   "source": [
    "# from_pretrained() 이 메서드는 사전 훈련된 모델의 가중치를 로드한다.\n",
    "\n",
    "from transformers import AutoModel\n",
    "\n",
    "model_ckpt = \"distilbert-base-uncased\"\n",
    "device = torch.device(\"cuda\" if torch.cuda.is_available() else \"cpu\")\n",
    "model = AutoModel.from_pretrained(model_ckpt).to(device)"
   ]
  },
  {
   "cell_type": "markdown",
   "id": "71148450",
   "metadata": {},
   "source": [
    "### 마지막 은닉 상태 추출하기"
   ]
  },
  {
   "cell_type": "code",
   "execution_count": 36,
   "id": "45d6aecb",
   "metadata": {},
   "outputs": [
    {
     "name": "stdout",
     "output_type": "stream",
     "text": [
      "입력 텐서 크기: torch.Size([1, 6])\n"
     ]
    }
   ],
   "source": [
    "text = \"this is a test\"\n",
    "inputs = tokenizer(text, return_tensors=\"pt\")\n",
    "print(f\"입력 텐서 크기: {inputs['input_ids'].size()}\")\n",
    "# return_tensors=\"pt\"를 안해주면 파이썬 리스트가 반환.\n",
    "# 결과 텐서의 크기는 [batch_size, n_tokens]"
   ]
  },
  {
   "cell_type": "code",
   "execution_count": 37,
   "id": "6578e323",
   "metadata": {},
   "outputs": [
    {
     "name": "stdout",
     "output_type": "stream",
     "text": [
      "BaseModelOutput(last_hidden_state=tensor([[[-0.1565, -0.1862,  0.0528,  ..., -0.1188,  0.0662,  0.5470],\n",
      "         [-0.3575, -0.6484, -0.0618,  ..., -0.3040,  0.3508,  0.5221],\n",
      "         [-0.2772, -0.4459,  0.1818,  ..., -0.0948, -0.0076,  0.9958],\n",
      "         [-0.2841, -0.3917,  0.3753,  ..., -0.2151, -0.1173,  1.0526],\n",
      "         [ 0.2661, -0.5094, -0.3180,  ..., -0.4203,  0.0144, -0.2149],\n",
      "         [ 0.9441,  0.0112, -0.4714,  ...,  0.1439, -0.7288, -0.1619]]],\n",
      "       device='cuda:0'), hidden_states=None, attentions=None)\n"
     ]
    }
   ],
   "source": [
    "inputs = {k:v.to(device) for k, v in inputs.items()}\n",
    "with torch.no_grad(): # 그래디언트 자동 계산 비활성화\n",
    "    outputs = model(**inputs)\n",
    "print(outputs)\n",
    "# 지금 모델은 마지막 은닉 상태 하나만 반환함."
   ]
  },
  {
   "cell_type": "code",
   "execution_count": 38,
   "id": "8b307f40",
   "metadata": {},
   "outputs": [
    {
     "data": {
      "text/plain": [
       "torch.Size([1, 6, 768])"
      ]
     },
     "execution_count": 38,
     "metadata": {},
     "output_type": "execute_result"
    }
   ],
   "source": [
    "# 이 은닉 상태의 크기를 확인 (마지막 은닉 상태 = 마지막 층의 은닉 상태)\n",
    "# (모델을 호출할 때 output_hidden_states=True로 지정하면 전체 층의 은닉 상태를 얻는다.)\n",
    "# 전체 층의 은닉 상태는 outputs 객체의 hidden_states 속성에 튜플로 저장되며 이 튜플의 마지막 원소가 last_hidden_state와 동일한 값이다.\n",
    "outputs.last_hidden_state.size() # 6개의 입력토큰마다 768차원의 벡터가 반환됨"
   ]
  },
  {
   "cell_type": "markdown",
   "id": "f474fa26",
   "metadata": {},
   "source": [
    "분류작업에서는 보통 [CLS] 토큰에 연관된 은닉 상태를 입력 특성으로 사용.  \n",
    "이 토큰은 시퀀스 시작에 등장하므로 다음처럼 outputs.last_hidden_state에 인덱스를 지정해 추출함."
   ]
  },
  {
   "cell_type": "code",
   "execution_count": 39,
   "id": "0419615d",
   "metadata": {},
   "outputs": [
    {
     "data": {
      "text/plain": [
       "torch.Size([1, 768])"
      ]
     },
     "execution_count": 39,
     "metadata": {},
     "output_type": "execute_result"
    }
   ],
   "source": [
    "outputs.last_hidden_state[:,0].size()"
   ]
  },
  {
   "cell_type": "markdown",
   "id": "808fb3cf",
   "metadata": {},
   "source": [
    "#### 앞에서 수행한 작업들을 하나의 함수로 만들기."
   ]
  },
  {
   "cell_type": "code",
   "execution_count": 40,
   "id": "9eb94229",
   "metadata": {},
   "outputs": [],
   "source": [
    "def extract_hidden_states(batch):\n",
    "    # 모델 입력을 GPU로 옮깁니다.\n",
    "    inputs = {k:v.to(device) for k, v in batch.items()\n",
    "             if k in tokenizer.model_input_names}\n",
    "    # 마지막 은닉 상태를 추출합니다.\n",
    "    with torch.no_grad():\n",
    "        last_hidden_state = model(**inputs).last_hidden_state\n",
    "    # [CLS] 토큰에 대한 벡터를 반환합니다.\n",
    "    return {\"hidden_state\": last_hidden_state[:,0].cpu().numpy()}"
   ]
  },
  {
   "cell_type": "code",
   "execution_count": 41,
   "id": "e0da6713",
   "metadata": {},
   "outputs": [],
   "source": [
    "# 이 모델의 입력값은 텐서이므로 input_ids와 attention_mask 열을 \"torch\" 포맷으로 바꿉니다.\n",
    "emotions_encoded.set_format(\"torch\",\n",
    "                            columns=[\"input_ids\", \"attention_mask\", \"label\"])"
   ]
  },
  {
   "cell_type": "code",
   "execution_count": 42,
   "id": "53c4be55",
   "metadata": {},
   "outputs": [
    {
     "name": "stderr",
     "output_type": "stream",
     "text": [
      "                                                                                                                                      \r"
     ]
    }
   ],
   "source": [
    "# 그다음 모든 분할에 대해 은닉 상태를 한 번에 추출\n",
    "# batch_size=None으로 지정하지 않았기 떄문에 디폴트인 batch_size=1000이 적용됨\n",
    "# 기대한 대로 extract_hidden_states() 함수를 적용하면 새로운 hidden_state 열이 데이터셋에 추가됨.\n",
    "emotions_hidden = emotions_encoded.map(extract_hidden_states, batched=True)"
   ]
  },
  {
   "cell_type": "code",
   "execution_count": 43,
   "id": "a1d94f88",
   "metadata": {},
   "outputs": [
    {
     "data": {
      "text/plain": [
       "['text', 'label', 'input_ids', 'attention_mask', 'hidden_state']"
      ]
     },
     "execution_count": 43,
     "metadata": {},
     "output_type": "execute_result"
    }
   ],
   "source": [
    "emotions_hidden[\"train\"].column_names"
   ]
  },
  {
   "cell_type": "code",
   "execution_count": 44,
   "id": "62698513",
   "metadata": {},
   "outputs": [
    {
     "data": {
      "text/plain": [
       "tensor([[-0.1168,  0.0986, -0.1296,  ...,  0.0587,  0.3543,  0.4042],\n",
       "        [-0.0324, -0.0323, -0.1957,  ..., -0.1747,  0.3546,  0.3028],\n",
       "        [ 0.0397,  0.2022,  0.1423,  ..., -0.1141,  0.3394,  0.3958],\n",
       "        ...,\n",
       "        [-0.0034, -0.0959,  0.0584,  ..., -0.0427,  0.2496,  0.3076],\n",
       "        [ 0.0666,  0.1733,  0.1290,  ...,  0.0612,  0.2904,  0.4684],\n",
       "        [ 0.0167,  0.1013, -0.0073,  ..., -0.0649,  0.3454,  0.2199]])"
      ]
     },
     "execution_count": 44,
     "metadata": {},
     "output_type": "execute_result"
    }
   ],
   "source": [
    "emotions_hidden[\"train\"][\"hidden_state\"]"
   ]
  },
  {
   "cell_type": "markdown",
   "id": "1a49368c",
   "metadata": {},
   "source": [
    "#### 특성 행렬 만들기"
   ]
  },
  {
   "cell_type": "code",
   "execution_count": 45,
   "id": "7ca64f03",
   "metadata": {},
   "outputs": [
    {
     "data": {
      "text/plain": [
       "((16000, 768), (2000, 768))"
      ]
     },
     "execution_count": 45,
     "metadata": {},
     "output_type": "execute_result"
    }
   ],
   "source": [
    "# 은닉상태를 입력 특성으로 사용하고 레이블을 타깃으로 사용한다.\n",
    "# 사이킷런 스타일로 잘 알려진 형식을 따라 해당 배열을 만들기.\n",
    "\n",
    "import numpy as np\n",
    "\n",
    "X_train = np.array(emotions_hidden[\"train\"][\"hidden_state\"])\n",
    "X_valid = np.array(emotions_hidden[\"validation\"][\"hidden_state\"])\n",
    "Y_train = np.array(emotions_hidden[\"train\"][\"label\"])\n",
    "Y_valid = np.array(emotions_hidden[\"validation\"][\"label\"])\n",
    "X_train.shape, X_valid.shape"
   ]
  },
  {
   "cell_type": "markdown",
   "id": "134e6259",
   "metadata": {},
   "source": [
    "#### 훈련 세트 시각화하기\n",
    "768차원의 은닉 상태를 시각화하기는 어렵기 때문에 UMAP 알고리즘을 사용해서 이 벡터를 2D로 투영하겠습니다.  \n",
    "UMAP은 특성이 [0,1]범위에 놓일 때 잘 동작한다. (따라서 MinMaxScaler를 적용하고 UMAP으로 구현하여 은닉 상태의 차원을 축소)"
   ]
  },
  {
   "cell_type": "code",
   "execution_count": 46,
   "id": "05af64b9",
   "metadata": {},
   "outputs": [
    {
     "name": "stderr",
     "output_type": "stream",
     "text": [
      "OMP: Info #276: omp_set_nested routine deprecated, please use omp_set_max_active_levels instead.\n"
     ]
    },
    {
     "data": {
      "text/html": [
       "<div>\n",
       "<style scoped>\n",
       "    .dataframe tbody tr th:only-of-type {\n",
       "        vertical-align: middle;\n",
       "    }\n",
       "\n",
       "    .dataframe tbody tr th {\n",
       "        vertical-align: top;\n",
       "    }\n",
       "\n",
       "    .dataframe thead th {\n",
       "        text-align: right;\n",
       "    }\n",
       "</style>\n",
       "<table border=\"1\" class=\"dataframe\">\n",
       "  <thead>\n",
       "    <tr style=\"text-align: right;\">\n",
       "      <th></th>\n",
       "      <th>X</th>\n",
       "      <th>Y</th>\n",
       "      <th>label</th>\n",
       "    </tr>\n",
       "  </thead>\n",
       "  <tbody>\n",
       "    <tr>\n",
       "      <th>0</th>\n",
       "      <td>4.438321</td>\n",
       "      <td>6.520364</td>\n",
       "      <td>0</td>\n",
       "    </tr>\n",
       "    <tr>\n",
       "      <th>1</th>\n",
       "      <td>-2.866280</td>\n",
       "      <td>5.892543</td>\n",
       "      <td>0</td>\n",
       "    </tr>\n",
       "    <tr>\n",
       "      <th>2</th>\n",
       "      <td>5.476390</td>\n",
       "      <td>2.992342</td>\n",
       "      <td>3</td>\n",
       "    </tr>\n",
       "    <tr>\n",
       "      <th>3</th>\n",
       "      <td>-2.081414</td>\n",
       "      <td>3.786861</td>\n",
       "      <td>2</td>\n",
       "    </tr>\n",
       "    <tr>\n",
       "      <th>4</th>\n",
       "      <td>-3.169922</td>\n",
       "      <td>3.841004</td>\n",
       "      <td>3</td>\n",
       "    </tr>\n",
       "  </tbody>\n",
       "</table>\n",
       "</div>"
      ],
      "text/plain": [
       "          X         Y  label\n",
       "0  4.438321  6.520364      0\n",
       "1 -2.866280  5.892543      0\n",
       "2  5.476390  2.992342      3\n",
       "3 -2.081414  3.786861      2\n",
       "4 -3.169922  3.841004      3"
      ]
     },
     "execution_count": 46,
     "metadata": {},
     "output_type": "execute_result"
    }
   ],
   "source": [
    "from umap import UMAP\n",
    "from sklearn.preprocessing import MinMaxScaler\n",
    "\n",
    "# 특성 스케일을 [0, 1] 범위로 조정함.\n",
    "X_scaled = MinMaxScaler().fit_transform(X_train)\n",
    "# UMAP 객체를 생성하고 훈련합니다.\n",
    "mapper = UMAP(n_components=2, metric=\"cosine\").fit(X_scaled)\n",
    "# 2D 임베딩의 데이터프레임을 만듭니다.\n",
    "df_emb = pd.DataFrame(mapper.embedding_, columns=[\"X\", \"Y\"])\n",
    "df_emb[\"label\"] = Y_train\n",
    "df_emb.head() # 특성이 768개에서 2개로 압축"
   ]
  },
  {
   "cell_type": "code",
   "execution_count": 47,
   "id": "5e2c6b29",
   "metadata": {},
   "outputs": [
    {
     "data": {
      "image/png": "[encoded data removed]",
      "text/plain": [
       "<Figure size 700x500 with 6 Axes>"
      ]
     },
     "metadata": {},
     "output_type": "display_data"
    }
   ],
   "source": [
    "# 각 범주에 대한 샘플의 밀도를 개별로 그리기.\n",
    "\n",
    "fig, axes = plt.subplots(2, 3, figsize=(7,5))\n",
    "axes = axes.flatten()\n",
    "cmaps = [\"Greys\", \"Blues\", \"Oranges\", \"Reds\", \"Purples\", \"Greens\"]\n",
    "labels = emotions[\"train\"].features[\"label\"].names\n",
    "\n",
    "for i, (label, cmap) in enumerate(zip(labels, cmaps)):\n",
    "    df_emb_sub = df_emb.query(f\"label == {i}\")\n",
    "    #hexbin은 육각형의 고밀도 산점도 그래프\n",
    "    axes[i].hexbin(df_emb_sub[\"X\"], df_emb_sub[\"Y\"], cmap=cmap,\n",
    "                  gridsize=20, linewidths=(0,))\n",
    "    axes[i].set_title(label)\n",
    "    axes[i].set_xticks([]), axes[i].set_yticks([]) # set_xticks(), set_yticks()는 x축 y축 눈금이 어떻게 표시될지 범위 숫자 지정. ex) 0 20 40 60 80 100 -> 0 50 100\n",
    "\n",
    "plt.tight_layout() # 여백에 관련된 서브플롯 파라미터를 조정\n",
    "plt.show()\n",
    "\n",
    "# 이 그림은 단지 저차원 공간으로 투영한 것임.\n",
    "# 일부 범주가 중첩됐다고 원본 공간에서 분리할 수 없는 것은 아님.\n",
    "# 이와 반대로 투영 공간에서 분리할 수 있다면 원본 공간에서도 분리할 수 있다."
   ]
  },
  {
   "cell_type": "code",
   "execution_count": 48,
   "id": "06c1ac31",
   "metadata": {},
   "outputs": [
    {
     "data": {
      "text/plain": [
       "['sadness', 'joy', 'love', 'anger', 'fear', 'surprise']"
      ]
     },
     "execution_count": 48,
     "metadata": {},
     "output_type": "execute_result"
    }
   ],
   "source": [
    "labels"
   ]
  },
  {
   "cell_type": "code",
   "execution_count": 49,
   "id": "c9ba2150",
   "metadata": {
    "scrolled": true
   },
   "outputs": [
    {
     "name": "stdout",
     "output_type": "stream",
     "text": [
      "Dataset({\n",
      "    features: ['text', 'label'],\n",
      "    num_rows: 16000\n",
      "})\n",
      "-----------------------------------------------\n",
      "{'text': Value(dtype='string', id=None), 'label': ClassLabel(names=['sadness', 'joy', 'love', 'anger', 'fear', 'surprise'], id=None)}\n",
      "-----------------------------------------------\n",
      "ClassLabel(names=['sadness', 'joy', 'love', 'anger', 'fear', 'surprise'], id=None)\n"
     ]
    }
   ],
   "source": [
    "print(emotions[\"train\"])\n",
    "print(\"-----------------------------------------------\")\n",
    "print(emotions[\"train\"].features)\n",
    "print(\"-----------------------------------------------\")\n",
    "print(emotions[\"train\"].features[\"label\"])"
   ]
  },
  {
   "cell_type": "code",
   "execution_count": 50,
   "id": "927612c0",
   "metadata": {},
   "outputs": [
    {
     "data": {
      "text/plain": [
       "array([<Axes: title={'center': 'sadness'}>,\n",
       "       <Axes: title={'center': 'joy'}>, <Axes: title={'center': 'love'}>,\n",
       "       <Axes: title={'center': 'anger'}>,\n",
       "       <Axes: title={'center': 'fear'}>,\n",
       "       <Axes: title={'center': 'surprise'}>], dtype=object)"
      ]
     },
     "execution_count": 50,
     "metadata": {},
     "output_type": "execute_result"
    }
   ],
   "source": [
    "axes"
   ]
  },
  {
   "cell_type": "markdown",
   "id": "e4993782",
   "metadata": {},
   "source": [
    "#### 간단한 분류 모델 훈련하기"
   ]
  },
  {
   "cell_type": "code",
   "execution_count": 51,
   "id": "ec66f7c3",
   "metadata": {},
   "outputs": [
    {
     "data": {
      "text/html": [
       "<style>#sk-container-id-1 {color: black;background-color: white;}#sk-container-id-1 pre{padding: 0;}#sk-container-id-1 div.sk-toggleable {background-color: white;}#sk-container-id-1 label.sk-toggleable__label {cursor: pointer;display: block;width: 100%;margin-bottom: 0;padding: 0.3em;box-sizing: border-box;text-align: center;}#sk-container-id-1 label.sk-toggleable__label-arrow:before {content: \"▸\";float: left;margin-right: 0.25em;color: #696969;}#sk-container-id-1 label.sk-toggleable__label-arrow:hover:before {color: black;}#sk-container-id-1 div.sk-estimator:hover label.sk-toggleable__label-arrow:before {color: black;}#sk-container-id-1 div.sk-toggleable__content {max-height: 0;max-width: 0;overflow: hidden;text-align: left;background-color: #f0f8ff;}#sk-container-id-1 div.sk-toggleable__content pre {margin: 0.2em;color: black;border-radius: 0.25em;background-color: #f0f8ff;}#sk-container-id-1 input.sk-toggleable__control:checked~div.sk-toggleable__content {max-height: 200px;max-width: 100%;overflow: auto;}#sk-container-id-1 input.sk-toggleable__control:checked~label.sk-toggleable__label-arrow:before {content: \"▾\";}#sk-container-id-1 div.sk-estimator input.sk-toggleable__control:checked~label.sk-toggleable__label {background-color: #d4ebff;}#sk-container-id-1 div.sk-label input.sk-toggleable__control:checked~label.sk-toggleable__label {background-color: #d4ebff;}#sk-container-id-1 input.sk-hidden--visually {border: 0;clip: rect(1px 1px 1px 1px);clip: rect(1px, 1px, 1px, 1px);height: 1px;margin: -1px;overflow: hidden;padding: 0;position: absolute;width: 1px;}#sk-container-id-1 div.sk-estimator {font-family: monospace;background-color: #f0f8ff;border: 1px dotted black;border-radius: 0.25em;box-sizing: border-box;margin-bottom: 0.5em;}#sk-container-id-1 div.sk-estimator:hover {background-color: #d4ebff;}#sk-container-id-1 div.sk-parallel-item::after {content: \"\";width: 100%;border-bottom: 1px solid gray;flex-grow: 1;}#sk-container-id-1 div.sk-label:hover label.sk-toggleable__label {background-color: #d4ebff;}#sk-container-id-1 div.sk-serial::before {content: \"\";position: absolute;border-left: 1px solid gray;box-sizing: border-box;top: 0;bottom: 0;left: 50%;z-index: 0;}#sk-container-id-1 div.sk-serial {display: flex;flex-direction: column;align-items: center;background-color: white;padding-right: 0.2em;padding-left: 0.2em;position: relative;}#sk-container-id-1 div.sk-item {position: relative;z-index: 1;}#sk-container-id-1 div.sk-parallel {display: flex;align-items: stretch;justify-content: center;background-color: white;position: relative;}#sk-container-id-1 div.sk-item::before, #sk-container-id-1 div.sk-parallel-item::before {content: \"\";position: absolute;border-left: 1px solid gray;box-sizing: border-box;top: 0;bottom: 0;left: 50%;z-index: -1;}#sk-container-id-1 div.sk-parallel-item {display: flex;flex-direction: column;z-index: 1;position: relative;background-color: white;}#sk-container-id-1 div.sk-parallel-item:first-child::after {align-self: flex-end;width: 50%;}#sk-container-id-1 div.sk-parallel-item:last-child::after {align-self: flex-start;width: 50%;}#sk-container-id-1 div.sk-parallel-item:only-child::after {width: 0;}#sk-container-id-1 div.sk-dashed-wrapped {border: 1px dashed gray;margin: 0 0.4em 0.5em 0.4em;box-sizing: border-box;padding-bottom: 0.4em;background-color: white;}#sk-container-id-1 div.sk-label label {font-family: monospace;font-weight: bold;display: inline-block;line-height: 1.2em;}#sk-container-id-1 div.sk-label-container {text-align: center;}#sk-container-id-1 div.sk-container {/* jupyter's `normalize.less` sets `[hidden] { display: none; }` but bootstrap.min.css set `[hidden] { display: none !important; }` so we also need the `!important` here to be able to override the default hidden behavior on the sphinx rendered scikit-learn.org. See: https://github.com/scikit-learn/scikit-learn/issues/21755 */display: inline-block !important;position: relative;}#sk-container-id-1 div.sk-text-repr-fallback {display: none;}</style><div id=\"sk-container-id-1\" class=\"sk-top-container\"><div class=\"sk-text-repr-fallback\"><pre>LogisticRegression(max_iter=3000)</pre><b>In a Jupyter environment, please rerun this cell to show the HTML representation or trust the notebook. <br />On GitHub, the HTML representation is unable to render, please try loading this page with nbviewer.org.</b></div><div class=\"sk-container\" hidden><div class=\"sk-item\"><div class=\"sk-estimator sk-toggleable\"><input class=\"sk-toggleable__control sk-hidden--visually\" id=\"sk-estimator-id-1\" type=\"checkbox\" checked><label for=\"sk-estimator-id-1\" class=\"sk-toggleable__label sk-toggleable__label-arrow\">LogisticRegression</label><div class=\"sk-toggleable__content\"><pre>LogisticRegression(max_iter=3000)</pre></div></div></div></div></div>"
      ],
      "text/plain": [
       "LogisticRegression(max_iter=3000)"
      ]
     },
     "execution_count": 51,
     "metadata": {},
     "output_type": "execute_result"
    }
   ],
   "source": [
    "# 수렴을 보장하기 위해 'max_iter'를 증가시킨다.\n",
    "\n",
    "from sklearn.linear_model import LogisticRegression\n",
    "\n",
    "lr_clf = LogisticRegression(max_iter=3000)\n",
    "lr_clf.fit(X_train, Y_train)"
   ]
  },
  {
   "cell_type": "code",
   "execution_count": 52,
   "id": "0dd01cc7",
   "metadata": {},
   "outputs": [
    {
     "data": {
      "text/plain": [
       "0.6335"
      ]
     },
     "execution_count": 52,
     "metadata": {},
     "output_type": "execute_result"
    }
   ],
   "source": [
    "lr_clf.score(X_valid, Y_valid)"
   ]
  },
  {
   "cell_type": "code",
   "execution_count": 53,
   "id": "60f68c72",
   "metadata": {},
   "outputs": [
    {
     "data": {
      "text/plain": [
       "0.352"
      ]
     },
     "execution_count": 53,
     "metadata": {},
     "output_type": "execute_result"
    }
   ],
   "source": [
    "from sklearn.dummy import DummyClassifier\n",
    "\n",
    "dummy_clf = DummyClassifier(strategy=\"most_frequent\") # 가장 많이 등장하는 클래스만으로 예측하는 분류 모델\n",
    "dummy_clf.fit(X_train, Y_train)\n",
    "dummy_clf.score(X_valid, Y_valid)"
   ]
  },
  {
   "cell_type": "markdown",
   "id": "88e8b9e0",
   "metadata": {},
   "source": [
    "불균형 클래스인데 가장 많이 등장하는 클래스만으로 예측할 때 보다 더 뛰어난 것을 확인할 수 있다."
   ]
  },
  {
   "cell_type": "code",
   "execution_count": 54,
   "id": "f5a9d508",
   "metadata": {},
   "outputs": [
    {
     "data": {
      "image/png": "[encoded data removed]",
      "text/plain": [
       "<Figure size 600x600 with 1 Axes>"
      ]
     },
     "metadata": {},
     "output_type": "display_data"
    }
   ],
   "source": [
    "from sklearn.metrics import ConfusionMatrixDisplay, confusion_matrix\n",
    "\n",
    "def plot_confusion_matrix(y_preds, y_true, labels):\n",
    "    cm = confusion_matrix(y_true, y_preds, normalize=\"true\")\n",
    "    fig, ax = plt.subplots(figsize=(6,6))\n",
    "    disp = ConfusionMatrixDisplay(confusion_matrix=cm, display_labels=labels)\n",
    "    disp.plot(cmap=\"Blues\", values_format=\".2f\", ax=ax, colorbar=False)\n",
    "    plt.title(\"Normalized confusion matrix\")\n",
    "    plt.show()\n",
    "\n",
    "y_preds = lr_clf.predict(X_valid)\n",
    "plot_confusion_matrix(y_preds, Y_valid, labels)"
   ]
  },
  {
   "cell_type": "markdown",
   "id": "238c87c8",
   "metadata": {},
   "source": [
    "### 트랜스포머 미세 튜닝하기\n",
    "\n",
    "트랜스포머를 엔드-투-엔드로 미세 튜닝  \n",
    "미세 튜닝 방식에서는 은닉 상태를 고정된 특성으로 사용하지 않고 전체 모델을 훈련한다.  \n",
    "이를 위해 분류 헤드는 미분 가능해야 한다. (backpropagation 하듯이)  \n",
    "따라서 이 방식은 일반적으로 신경망으로 분류 작업을 수행한다.\n",
    "\n"
   ]
  },
  {
   "cell_type": "markdown",
   "id": "68b5a34d",
   "metadata": {},
   "source": [
    "#### 사전 훈련된 모델 로드하기\n",
    "\n",
    "첫째로 필요한 요소는 특성 기반 방식에서 사용한 것과 같은 사전 훈련된 DistilBERT 모델이다.  \n",
    "AutoModelForSequenceClassification이 AutoModel과 다른 점은 사전 훈련된 모델 출력 위에 base model(=사전 훈련된 DistilBERT모델)과 함께 쉽게 훈련할 수 있는 분류 헤드가 있음.  \n",
    "분류 헤드의 출력 크기를 설정하기 위해 모델이 예측할 레이블 개수를 지정"
   ]
  },
  {
   "cell_type": "code",
   "execution_count": 55,
   "id": "51306244",
   "metadata": {},
   "outputs": [
    {
     "name": "stderr",
     "output_type": "stream",
     "text": [
      "Some weights of the model checkpoint at distilbert-base-uncased were not used when initializing DistilBertForSequenceClassification: ['vocab_layer_norm.weight', 'vocab_transform.weight', 'vocab_layer_norm.bias', 'vocab_projector.bias', 'vocab_transform.bias']\n",
      "- This IS expected if you are initializing DistilBertForSequenceClassification from the checkpoint of a model trained on another task or with another architecture (e.g. initializing a BertForSequenceClassification model from a BertForPreTraining model).\n",
      "- This IS NOT expected if you are initializing DistilBertForSequenceClassification from the checkpoint of a model that you expect to be exactly identical (initializing a BertForSequenceClassification model from a BertForSequenceClassification model).\n",
      "Some weights of DistilBertForSequenceClassification were not initialized from the model checkpoint at distilbert-base-uncased and are newly initialized: ['classifier.bias', 'pre_classifier.bias', 'classifier.weight', 'pre_classifier.weight']\n",
      "You should probably TRAIN this model on a down-stream task to be able to use it for predictions and inference.\n"
     ]
    }
   ],
   "source": [
    "from transformers import AutoModelForSequenceClassification\n",
    "\n",
    "num_labels = 6\n",
    "model = (AutoModelForSequenceClassification\n",
    "        .from_pretrained(model_ckpt, num_labels=num_labels)\n",
    "        .to(device))\n",
    "\n",
    "# 모델 일부가 랜덤하게 초기화된다는 경고를 볼 수 있음\n",
    "# 분류헤드가 아직 훈련되지 않았으니, 이는 정상이다."
   ]
  },
  {
   "cell_type": "markdown",
   "id": "7db434ef",
   "metadata": {},
   "source": [
    "#### 성공 지표 정의하기"
   ]
  },
  {
   "cell_type": "code",
   "execution_count": 56,
   "id": "9e077e1d",
   "metadata": {},
   "outputs": [],
   "source": [
    "from sklearn.metrics import accuracy_score, f1_score\n",
    "\n",
    "def compute_metrics(pred):\n",
    "    labels = pred.label_ids\n",
    "    preds = pred.predictions.argmax(-1)\n",
    "    f1 = f1_score(labels, preds, average=\"weighted\") #  average=\"weighted\"는 클래스별 샘플 수에 따라 가중 평균화된 F1 점수를 반환\n",
    "    acc = accuracy_score(labels, preds)\n",
    "    return {\"Accuracy\" : acc, \"f1\": f1}"
   ]
  },
  {
   "cell_type": "markdown",
   "id": "3221ed47",
   "metadata": {},
   "source": [
    "#### 모델 훈련하기"
   ]
  },
  {
   "cell_type": "code",
   "execution_count": 57,
   "id": "2bc6c33c",
   "metadata": {
    "scrolled": true
   },
   "outputs": [
    {
     "ename": "ImportError",
     "evalue": "The `notebook_login` function can only be used in a notebook (Jupyter or Colab) and you need the `ipywidgets` module: `pip install ipywidgets`.",
     "output_type": "error",
     "traceback": [
      "\u001b[0;31m---------------------------------------------------------------------------\u001b[0m",
      "\u001b[0;31mModuleNotFoundError\u001b[0m                       Traceback (most recent call last)",
      "File \u001b[0;32m~/anaconda3/envs/deep/lib/python3.9/site-packages/huggingface_hub/_login.py:208\u001b[0m, in \u001b[0;36mnotebook_login\u001b[0;34m(new_session, write_permission)\u001b[0m\n\u001b[1;32m    207\u001b[0m \u001b[38;5;28;01mtry\u001b[39;00m:\n\u001b[0;32m--> 208\u001b[0m     \u001b[38;5;28;01mimport\u001b[39;00m \u001b[38;5;21;01mipywidgets\u001b[39;00m\u001b[38;5;21;01m.\u001b[39;00m\u001b[38;5;21;01mwidgets\u001b[39;00m \u001b[38;5;28;01mas\u001b[39;00m \u001b[38;5;21;01mwidgets\u001b[39;00m  \u001b[38;5;66;03m# type: ignore\u001b[39;00m\n\u001b[1;32m    209\u001b[0m     \u001b[38;5;28;01mfrom\u001b[39;00m \u001b[38;5;21;01mIPython\u001b[39;00m\u001b[38;5;21;01m.\u001b[39;00m\u001b[38;5;21;01mdisplay\u001b[39;00m \u001b[38;5;28;01mimport\u001b[39;00m display  \u001b[38;5;66;03m# type: ignore\u001b[39;00m\n",
      "\u001b[0;31mModuleNotFoundError\u001b[0m: No module named 'ipywidgets'",
      "\nDuring handling of the above exception, another exception occurred:\n",
      "\u001b[0;31mImportError\u001b[0m                               Traceback (most recent call last)",
      "Cell \u001b[0;32mIn[57], line 3\u001b[0m\n\u001b[1;32m      1\u001b[0m \u001b[38;5;28;01mfrom\u001b[39;00m \u001b[38;5;21;01mhuggingface_hub\u001b[39;00m \u001b[38;5;28;01mimport\u001b[39;00m notebook_login\n\u001b[0;32m----> 3\u001b[0m \u001b[43mnotebook_login\u001b[49m\u001b[43m(\u001b[49m\u001b[43m)\u001b[49m\n",
      "File \u001b[0;32m~/anaconda3/envs/deep/lib/python3.9/site-packages/huggingface_hub/_login.py:211\u001b[0m, in \u001b[0;36mnotebook_login\u001b[0;34m(new_session, write_permission)\u001b[0m\n\u001b[1;32m    209\u001b[0m     \u001b[38;5;28;01mfrom\u001b[39;00m \u001b[38;5;21;01mIPython\u001b[39;00m\u001b[38;5;21;01m.\u001b[39;00m\u001b[38;5;21;01mdisplay\u001b[39;00m \u001b[38;5;28;01mimport\u001b[39;00m display  \u001b[38;5;66;03m# type: ignore\u001b[39;00m\n\u001b[1;32m    210\u001b[0m \u001b[38;5;28;01mexcept\u001b[39;00m \u001b[38;5;167;01mImportError\u001b[39;00m:\n\u001b[0;32m--> 211\u001b[0m     \u001b[38;5;28;01mraise\u001b[39;00m \u001b[38;5;167;01mImportError\u001b[39;00m(\n\u001b[1;32m    212\u001b[0m         \u001b[38;5;124m\"\u001b[39m\u001b[38;5;124mThe `notebook_login` function can only be used in a notebook (Jupyter or\u001b[39m\u001b[38;5;124m\"\u001b[39m\n\u001b[1;32m    213\u001b[0m         \u001b[38;5;124m\"\u001b[39m\u001b[38;5;124m Colab) and you need the `ipywidgets` module: `pip install ipywidgets`.\u001b[39m\u001b[38;5;124m\"\u001b[39m\n\u001b[1;32m    214\u001b[0m     )\n\u001b[1;32m    215\u001b[0m \u001b[38;5;28;01mif\u001b[39;00m \u001b[38;5;129;01mnot\u001b[39;00m new_session \u001b[38;5;129;01mand\u001b[39;00m _current_token_okay(write_permission\u001b[38;5;241m=\u001b[39mwrite_permission):\n\u001b[1;32m    216\u001b[0m     \u001b[38;5;28mprint\u001b[39m(\u001b[38;5;124m\"\u001b[39m\u001b[38;5;124mUser is already logged in.\u001b[39m\u001b[38;5;124m\"\u001b[39m)\n",
      "\u001b[0;31mImportError\u001b[0m: The `notebook_login` function can only be used in a notebook (Jupyter or Colab) and you need the `ipywidgets` module: `pip install ipywidgets`."
     ]
    }
   ],
   "source": [
    "# from huggingface_hub import notebook_login\n",
    "\n",
    "# notebook_login()"
   ]
  },
  {
   "cell_type": "code",
   "execution_count": 58,
   "id": "c159d92f",
   "metadata": {},
   "outputs": [],
   "source": [
    "from transformers import Trainer, TrainingArguments\n",
    "\n",
    "batch_size = 64\n",
    "logging_steps = len(emotions_encoded[\"train\"]) // batch_size\n",
    "model_name = f\"{model_ckpt}-finetuned-emotion\"\n",
    "training_args = TrainingArguments(output_dir = model_name,\n",
    "                                  num_train_epochs=2,\n",
    "                                  learning_rate=2e-5,\n",
    "                                  per_device_train_batch_size = batch_size,\n",
    "                                  per_device_eval_batch_size=batch_size,\n",
    "                                  weight_decay=0.01,\n",
    "                                  evaluation_strategy=\"epoch\",\n",
    "                                  disable_tqdm=logging_steps,\n",
    "                                  push_to_hub=True,\n",
    "                                  save_strategy=\"epoch\",\n",
    "                                  load_best_model_at_end=True,\n",
    "                                  log_level=\"error\",)\n",
    "# 훈련이 끝난 후 최상의 모델을 자동으로 로드하려면 load_best_model_at_end 매개변수를 True로 설정하고 save_strategy 매개변수를 evaluation_strategy와 동일하게 맞춘다."
   ]
  },
  {
   "cell_type": "code",
   "execution_count": 59,
   "id": "9a854b83",
   "metadata": {
    "scrolled": false
   },
   "outputs": [
    {
     "name": "stderr",
     "output_type": "stream",
     "text": [
      "/home/jj/github/NLP/distilbert-base-uncased-finetuned-emotion is already a clone of https://huggingface.co/bh8648/distilbert-base-uncased-finetuned-emotion. Make sure you pull the latest changes with `repo.git_pull()`.\n",
      "/home/jj/anaconda3/envs/deep/lib/python3.9/site-packages/transformers/optimization.py:411: FutureWarning: This implementation of AdamW is deprecated and will be removed in a future version. Use the PyTorch implementation torch.optim.AdamW instead, or set `no_deprecation_warning=True` to disable this warning\n",
      "  warnings.warn(\n"
     ]
    },
    {
     "name": "stdout",
     "output_type": "stream",
     "text": [
      "{'eval_loss': 0.32075750827789307, 'eval_Accuracy': 0.904, 'eval_f1': 0.9016523491430191, 'eval_runtime': 2.6768, 'eval_samples_per_second': 747.167, 'eval_steps_per_second': 11.955, 'epoch': 1.0}\n",
      "{'loss': 0.5467, 'learning_rate': 0.0, 'epoch': 2.0}\n",
      "{'eval_loss': 0.22038845717906952, 'eval_Accuracy': 0.9265, 'eval_f1': 0.9264349572615436, 'eval_runtime': 3.9518, 'eval_samples_per_second': 506.1, 'eval_steps_per_second': 8.098, 'epoch': 2.0}\n",
      "{'train_runtime': 162.2514, 'train_samples_per_second': 197.225, 'train_steps_per_second': 3.082, 'train_loss': 0.5466865844726563, 'epoch': 2.0}\n"
     ]
    }
   ],
   "source": [
    "import os\n",
    "os.environ[\"TOKENIZERS_PARALLELISM\"] = \"false\"\n",
    "\n",
    "from transformers import Trainer\n",
    "\n",
    "trainer = Trainer(model=model, args=training_args, \n",
    "                  compute_metrics=compute_metrics,\n",
    "                  train_dataset=emotions_encoded[\"train\"],\n",
    "                  eval_dataset=emotions_encoded[\"validation\"],\n",
    "                  tokenizer=tokenizer,)\n",
    "trainer.train();"
   ]
  },
  {
   "cell_type": "code",
   "execution_count": 60,
   "id": "bdbad113",
   "metadata": {
    "scrolled": false
   },
   "outputs": [],
   "source": [
    "preds_output = trainer.predict(emotions_encoded[\"validation\"])\n",
    "# predict 메서드의 출력은 PredictionOutput 객체로 predictions, label_ids 배열과 함께 Trainer 클래스에 전달한 측정 지표의 값도 담고 있다."
   ]
  },
  {
   "cell_type": "code",
   "execution_count": 61,
   "id": "40839905",
   "metadata": {},
   "outputs": [
    {
     "data": {
      "text/plain": [
       "{'test_loss': 0.22038845717906952,\n",
       " 'test_Accuracy': 0.9265,\n",
       " 'test_f1': 0.9264349572615436,\n",
       " 'test_runtime': 2.787,\n",
       " 'test_samples_per_second': 717.623,\n",
       " 'test_steps_per_second': 11.482}"
      ]
     },
     "execution_count": 61,
     "metadata": {},
     "output_type": "execute_result"
    }
   ],
   "source": [
    "preds_output.metrics"
   ]
  },
  {
   "cell_type": "code",
   "execution_count": 62,
   "id": "9ddf5c21",
   "metadata": {},
   "outputs": [],
   "source": [
    "# 각 클래스에 대한 예측 데이터도 있음.\n",
    "# np.argmax() 함수를 이용해 가장 큰 값이 나오도록 예측을 디코딩한다. -> 예측 레이블이 반환되며, 반환된 레이블은 특성 기반 방식에서 사이킷런 모델이 반환한 레이블과 포맷이 같다.\n",
    "# 이걸로 오차행렬을 만듦\n",
    "y_preds = np.argmax(preds_output.predictions, axis=1)"
   ]
  },
  {
   "cell_type": "code",
   "execution_count": 63,
   "id": "7785a9e8",
   "metadata": {},
   "outputs": [
    {
     "data": {
      "image/png": "[encoded data removed]",
      "text/plain": [
       "<Figure size 600x600 with 1 Axes>"
      ]
     },
     "metadata": {},
     "output_type": "display_data"
    }
   ],
   "source": [
    "plot_confusion_matrix(y_preds, Y_valid, labels)"
   ]
  },
  {
   "cell_type": "markdown",
   "id": "0029c669",
   "metadata": {},
   "source": [
    "#### 오류분석"
   ]
  },
  {
   "cell_type": "code",
   "execution_count": 64,
   "id": "0623f738",
   "metadata": {},
   "outputs": [],
   "source": [
    "#손실과 예측 레이블을 반환하는 함수\n",
    "\n",
    "from torch.nn.functional import cross_entropy\n",
    "\n",
    "def forward_pass_with_label(batch):\n",
    "    # 모든 입력 텐서를 모델과 같은 장치로 이동\n",
    "    inputs = {k:v.to(device) for k,v in batch.items()\n",
    "             if k in tokenizer.model_input_names}\n",
    "    \n",
    "    with torch.no_grad():\n",
    "        output = model(**inputs)\n",
    "        pred_label = torch.argmax(output.logits, axis=-1)\n",
    "        loss = cross_entropy(output.logits, batch[\"label\"].to(device),\n",
    "                            reduction=\"none\")\n",
    "        \n",
    "    # 다른 데이터셋 열과 호환되도록 출력을 CPU로 옮김\n",
    "    return {\"loss\": loss.cpu().numpy(),\n",
    "           \"predicted_label\": pred_label.cpu().numpy()}"
   ]
  },
  {
   "cell_type": "code",
   "execution_count": 65,
   "id": "7cd1c715",
   "metadata": {},
   "outputs": [
    {
     "name": "stderr",
     "output_type": "stream",
     "text": [
      "                                                                                                                                      \r"
     ]
    }
   ],
   "source": [
    "# 데이터셋을 다시 파이토치 텐서로 변환\n",
    "emotions_encoded.set_format(\"torch\",\n",
    "                           columns=[\"input_ids\", \"attention_mask\", \"label\"])\n",
    "\n",
    "# 손실 값을 계산합니다.\n",
    "emotions_encoded[\"validation\"] = emotions_encoded[\"validation\"].map(\n",
    "                                forward_pass_with_label, batched=True, batch_size=16)"
   ]
  },
  {
   "cell_type": "code",
   "execution_count": 66,
   "id": "e41986da",
   "metadata": {},
   "outputs": [],
   "source": [
    "# 텍스트, 손실, 예측 레이블과 진짜 레이블로 DataFrame을 만든다.\n",
    "\n",
    "emotions_encoded.set_format(\"pandas\")\n",
    "cols = [\"text\", \"label\", \"predicted_label\", \"loss\"]\n",
    "df_test = emotions_encoded[\"validation\"][:][cols]\n",
    "df_test[\"label\"] = df_test[\"label\"].apply(label_int2str)\n",
    "df_test[\"predicted_label\"] = (df_test[\"predicted_label\"]\n",
    "                              .apply(label_int2str))"
   ]
  },
  {
   "cell_type": "code",
   "execution_count": 67,
   "id": "9a73015a",
   "metadata": {},
   "outputs": [
    {
     "data": {
      "text/html": [
       "<div>\n",
       "<style scoped>\n",
       "    .dataframe tbody tr th:only-of-type {\n",
       "        vertical-align: middle;\n",
       "    }\n",
       "\n",
       "    .dataframe tbody tr th {\n",
       "        vertical-align: top;\n",
       "    }\n",
       "\n",
       "    .dataframe thead th {\n",
       "        text-align: right;\n",
       "    }\n",
       "</style>\n",
       "<table border=\"1\" class=\"dataframe\">\n",
       "  <thead>\n",
       "    <tr style=\"text-align: right;\">\n",
       "      <th></th>\n",
       "      <th>text</th>\n",
       "      <th>label</th>\n",
       "      <th>predicted_label</th>\n",
       "      <th>loss</th>\n",
       "    </tr>\n",
       "  </thead>\n",
       "  <tbody>\n",
       "    <tr>\n",
       "      <th>0</th>\n",
       "      <td>im feeling quite sad and sorry for myself but ...</td>\n",
       "      <td>sadness</td>\n",
       "      <td>sadness</td>\n",
       "      <td>0.026373</td>\n",
       "    </tr>\n",
       "    <tr>\n",
       "      <th>1</th>\n",
       "      <td>i feel like i am still looking at a blank canv...</td>\n",
       "      <td>sadness</td>\n",
       "      <td>sadness</td>\n",
       "      <td>0.025321</td>\n",
       "    </tr>\n",
       "    <tr>\n",
       "      <th>2</th>\n",
       "      <td>i feel like a faithful servant</td>\n",
       "      <td>love</td>\n",
       "      <td>love</td>\n",
       "      <td>0.284247</td>\n",
       "    </tr>\n",
       "    <tr>\n",
       "      <th>3</th>\n",
       "      <td>i am just feeling cranky and blue</td>\n",
       "      <td>anger</td>\n",
       "      <td>anger</td>\n",
       "      <td>0.033370</td>\n",
       "    </tr>\n",
       "    <tr>\n",
       "      <th>4</th>\n",
       "      <td>i can have for a treat or if i am feeling festive</td>\n",
       "      <td>joy</td>\n",
       "      <td>joy</td>\n",
       "      <td>0.017807</td>\n",
       "    </tr>\n",
       "    <tr>\n",
       "      <th>...</th>\n",
       "      <td>...</td>\n",
       "      <td>...</td>\n",
       "      <td>...</td>\n",
       "      <td>...</td>\n",
       "    </tr>\n",
       "    <tr>\n",
       "      <th>1995</th>\n",
       "      <td>im having ssa examination tomorrow in the morn...</td>\n",
       "      <td>sadness</td>\n",
       "      <td>sadness</td>\n",
       "      <td>0.027245</td>\n",
       "    </tr>\n",
       "    <tr>\n",
       "      <th>1996</th>\n",
       "      <td>i constantly worry about their fight against n...</td>\n",
       "      <td>joy</td>\n",
       "      <td>joy</td>\n",
       "      <td>0.020531</td>\n",
       "    </tr>\n",
       "    <tr>\n",
       "      <th>1997</th>\n",
       "      <td>i feel its important to share this info for th...</td>\n",
       "      <td>joy</td>\n",
       "      <td>joy</td>\n",
       "      <td>0.023113</td>\n",
       "    </tr>\n",
       "    <tr>\n",
       "      <th>1998</th>\n",
       "      <td>i truly feel that if you are passionate enough...</td>\n",
       "      <td>joy</td>\n",
       "      <td>joy</td>\n",
       "      <td>0.560464</td>\n",
       "    </tr>\n",
       "    <tr>\n",
       "      <th>1999</th>\n",
       "      <td>i feel like i just wanna buy any cute make up ...</td>\n",
       "      <td>joy</td>\n",
       "      <td>joy</td>\n",
       "      <td>0.033114</td>\n",
       "    </tr>\n",
       "  </tbody>\n",
       "</table>\n",
       "<p>2000 rows × 4 columns</p>\n",
       "</div>"
      ],
      "text/plain": [
       "                                                   text    label  \\\n",
       "0     im feeling quite sad and sorry for myself but ...  sadness   \n",
       "1     i feel like i am still looking at a blank canv...  sadness   \n",
       "2                        i feel like a faithful servant     love   \n",
       "3                     i am just feeling cranky and blue    anger   \n",
       "4     i can have for a treat or if i am feeling festive      joy   \n",
       "...                                                 ...      ...   \n",
       "1995  im having ssa examination tomorrow in the morn...  sadness   \n",
       "1996  i constantly worry about their fight against n...      joy   \n",
       "1997  i feel its important to share this info for th...      joy   \n",
       "1998  i truly feel that if you are passionate enough...      joy   \n",
       "1999  i feel like i just wanna buy any cute make up ...      joy   \n",
       "\n",
       "     predicted_label      loss  \n",
       "0            sadness  0.026373  \n",
       "1            sadness  0.025321  \n",
       "2               love  0.284247  \n",
       "3              anger  0.033370  \n",
       "4                joy  0.017807  \n",
       "...              ...       ...  \n",
       "1995         sadness  0.027245  \n",
       "1996             joy  0.020531  \n",
       "1997             joy  0.023113  \n",
       "1998             joy  0.560464  \n",
       "1999             joy  0.033114  \n",
       "\n",
       "[2000 rows x 4 columns]"
      ]
     },
     "execution_count": 67,
     "metadata": {},
     "output_type": "execute_result"
    }
   ],
   "source": [
    "df_test"
   ]
  },
  {
   "cell_type": "markdown",
   "id": "14ddf5c8",
   "metadata": {},
   "source": [
    "### 이제 emotions_encoded를 손실 기준으로 오름차순이나 내림차순으로 정렬함.  \n",
    "### 이 작업은 다음과 같은 사항을 감지한다.  \n",
    "### 1) 잘못된 레이블  \n",
    "데이터에 레이블을 부여하는 프로세스는 모두 완벽하지 않음.  \n",
    "레이블을 부여하는 애너테이터(annotator)가 실수하거나 의견이 일치하지 않기도 함.  \n",
    "또 다른 특성에서 추론된 레이블이 틀린 경우도 있다.  \n",
    "데이터에 자동으로 레이블을 부여하기가 쉽다면 예측 모델이 필요하지 않으므로 잘못 레이블링된 샘플이 있는 것이 정상이다.  \n",
    "앞에서와 같은 방식을 사용하면 이런 레이블을 빠르게 찾아 수정할 수 있다.\n",
    "### 2) 데이터셋의 특이사항  \n",
    "실세계의 데이터셋은 엉성하다.  \n",
    "텍스트 데이터에서는 입력에 포함된 특수 문자나 문자열이 모델 예측에 큰 영향을 미치기도 한다.  \n",
    "모델의 가장 나쁜 예측을 들여다보면 이런 특성을 찾게 되고, 데이터를 정제하거나 비슷한 샘플을 추가하면 모델이 안정된다."
   ]
  },
  {
   "cell_type": "code",
   "execution_count": 68,
   "id": "7c5b50d3",
   "metadata": {},
   "outputs": [
    {
     "data": {
      "text/html": [
       "<div>\n",
       "<style scoped>\n",
       "    .dataframe tbody tr th:only-of-type {\n",
       "        vertical-align: middle;\n",
       "    }\n",
       "\n",
       "    .dataframe tbody tr th {\n",
       "        vertical-align: top;\n",
       "    }\n",
       "\n",
       "    .dataframe thead th {\n",
       "        text-align: right;\n",
       "    }\n",
       "</style>\n",
       "<table border=\"1\" class=\"dataframe\">\n",
       "  <thead>\n",
       "    <tr style=\"text-align: right;\">\n",
       "      <th></th>\n",
       "      <th>text</th>\n",
       "      <th>label</th>\n",
       "      <th>predicted_label</th>\n",
       "      <th>loss</th>\n",
       "    </tr>\n",
       "  </thead>\n",
       "  <tbody>\n",
       "    <tr>\n",
       "      <th>1950</th>\n",
       "      <td>i as representative of everything thats wrong ...</td>\n",
       "      <td>surprise</td>\n",
       "      <td>sadness</td>\n",
       "      <td>5.229831</td>\n",
       "    </tr>\n",
       "    <tr>\n",
       "      <th>1870</th>\n",
       "      <td>i guess i feel betrayed because i admired him ...</td>\n",
       "      <td>joy</td>\n",
       "      <td>sadness</td>\n",
       "      <td>5.229372</td>\n",
       "    </tr>\n",
       "    <tr>\n",
       "      <th>1963</th>\n",
       "      <td>i called myself pro life and voted for perry w...</td>\n",
       "      <td>joy</td>\n",
       "      <td>sadness</td>\n",
       "      <td>5.120049</td>\n",
       "    </tr>\n",
       "    <tr>\n",
       "      <th>1500</th>\n",
       "      <td>i guess we would naturally feel a sense of lon...</td>\n",
       "      <td>anger</td>\n",
       "      <td>sadness</td>\n",
       "      <td>5.104389</td>\n",
       "    </tr>\n",
       "    <tr>\n",
       "      <th>1274</th>\n",
       "      <td>i am going to several holiday parties and i ca...</td>\n",
       "      <td>joy</td>\n",
       "      <td>sadness</td>\n",
       "      <td>4.987124</td>\n",
       "    </tr>\n",
       "    <tr>\n",
       "      <th>882</th>\n",
       "      <td>i feel badly about reneging on my commitment t...</td>\n",
       "      <td>love</td>\n",
       "      <td>sadness</td>\n",
       "      <td>4.797879</td>\n",
       "    </tr>\n",
       "    <tr>\n",
       "      <th>1801</th>\n",
       "      <td>i feel that he was being overshadowed by the s...</td>\n",
       "      <td>love</td>\n",
       "      <td>sadness</td>\n",
       "      <td>4.777207</td>\n",
       "    </tr>\n",
       "    <tr>\n",
       "      <th>765</th>\n",
       "      <td>i feel super awkward and out of place right now</td>\n",
       "      <td>joy</td>\n",
       "      <td>sadness</td>\n",
       "      <td>4.515785</td>\n",
       "    </tr>\n",
       "    <tr>\n",
       "      <th>1111</th>\n",
       "      <td>im lazy my characters fall into categories of ...</td>\n",
       "      <td>joy</td>\n",
       "      <td>fear</td>\n",
       "      <td>4.271660</td>\n",
       "    </tr>\n",
       "    <tr>\n",
       "      <th>1840</th>\n",
       "      <td>id let you kill it now but as a matter of fact...</td>\n",
       "      <td>joy</td>\n",
       "      <td>fear</td>\n",
       "      <td>4.134989</td>\n",
       "    </tr>\n",
       "  </tbody>\n",
       "</table>\n",
       "</div>"
      ],
      "text/plain": [
       "                                                   text     label  \\\n",
       "1950  i as representative of everything thats wrong ...  surprise   \n",
       "1870  i guess i feel betrayed because i admired him ...       joy   \n",
       "1963  i called myself pro life and voted for perry w...       joy   \n",
       "1500  i guess we would naturally feel a sense of lon...     anger   \n",
       "1274  i am going to several holiday parties and i ca...       joy   \n",
       "882   i feel badly about reneging on my commitment t...      love   \n",
       "1801  i feel that he was being overshadowed by the s...      love   \n",
       "765     i feel super awkward and out of place right now       joy   \n",
       "1111  im lazy my characters fall into categories of ...       joy   \n",
       "1840  id let you kill it now but as a matter of fact...       joy   \n",
       "\n",
       "     predicted_label      loss  \n",
       "1950         sadness  5.229831  \n",
       "1870         sadness  5.229372  \n",
       "1963         sadness  5.120049  \n",
       "1500         sadness  5.104389  \n",
       "1274         sadness  4.987124  \n",
       "882          sadness  4.797879  \n",
       "1801         sadness  4.777207  \n",
       "765          sadness  4.515785  \n",
       "1111            fear  4.271660  \n",
       "1840            fear  4.134989  "
      ]
     },
     "execution_count": 68,
     "metadata": {},
     "output_type": "execute_result"
    }
   ],
   "source": [
    "# 손실이 가장 높은 샘플\n",
    "df_test.sort_values(\"loss\", ascending=False).head(10)"
   ]
  },
  {
   "cell_type": "markdown",
   "id": "9c7f3e58",
   "metadata": {},
   "source": [
    "### 딥러닝 모델은 예측을 얻기 위해 지름길을 찾고 활용하는 데 남다른 능력을 발휘한다.\n",
    "### 이런 이유로, 시간이 걸리더라도 모델이 가장 강하게 확신하는 샘플을 조사하는 게 중요하다."
   ]
  },
  {
   "cell_type": "code",
   "execution_count": 69,
   "id": "6e20fbb6",
   "metadata": {},
   "outputs": [
    {
     "data": {
      "text/html": [
       "<div>\n",
       "<style scoped>\n",
       "    .dataframe tbody tr th:only-of-type {\n",
       "        vertical-align: middle;\n",
       "    }\n",
       "\n",
       "    .dataframe tbody tr th {\n",
       "        vertical-align: top;\n",
       "    }\n",
       "\n",
       "    .dataframe thead th {\n",
       "        text-align: right;\n",
       "    }\n",
       "</style>\n",
       "<table border=\"1\" class=\"dataframe\">\n",
       "  <thead>\n",
       "    <tr style=\"text-align: right;\">\n",
       "      <th></th>\n",
       "      <th>text</th>\n",
       "      <th>label</th>\n",
       "      <th>predicted_label</th>\n",
       "      <th>loss</th>\n",
       "    </tr>\n",
       "  </thead>\n",
       "  <tbody>\n",
       "    <tr>\n",
       "      <th>1873</th>\n",
       "      <td>i feel practically virtuous this month i have ...</td>\n",
       "      <td>joy</td>\n",
       "      <td>joy</td>\n",
       "      <td>0.016905</td>\n",
       "    </tr>\n",
       "    <tr>\n",
       "      <th>1147</th>\n",
       "      <td>i type i feel bouncy and excited to get out my...</td>\n",
       "      <td>joy</td>\n",
       "      <td>joy</td>\n",
       "      <td>0.017012</td>\n",
       "    </tr>\n",
       "    <tr>\n",
       "      <th>19</th>\n",
       "      <td>i had lunch with an old friend and it was nice...</td>\n",
       "      <td>joy</td>\n",
       "      <td>joy</td>\n",
       "      <td>0.017056</td>\n",
       "    </tr>\n",
       "    <tr>\n",
       "      <th>1495</th>\n",
       "      <td>i got a lot of ideas and feel like the weekend...</td>\n",
       "      <td>joy</td>\n",
       "      <td>joy</td>\n",
       "      <td>0.017124</td>\n",
       "    </tr>\n",
       "    <tr>\n",
       "      <th>578</th>\n",
       "      <td>i got to christmas feeling positive about the ...</td>\n",
       "      <td>joy</td>\n",
       "      <td>joy</td>\n",
       "      <td>0.017240</td>\n",
       "    </tr>\n",
       "    <tr>\n",
       "      <th>1320</th>\n",
       "      <td>im feeling positive but its impossible to desc...</td>\n",
       "      <td>joy</td>\n",
       "      <td>joy</td>\n",
       "      <td>0.017314</td>\n",
       "    </tr>\n",
       "    <tr>\n",
       "      <th>1649</th>\n",
       "      <td>i feel relieved when she goes to bed because s...</td>\n",
       "      <td>joy</td>\n",
       "      <td>joy</td>\n",
       "      <td>0.017512</td>\n",
       "    </tr>\n",
       "    <tr>\n",
       "      <th>1548</th>\n",
       "      <td>im not feeling very festive this year</td>\n",
       "      <td>joy</td>\n",
       "      <td>joy</td>\n",
       "      <td>0.017526</td>\n",
       "    </tr>\n",
       "    <tr>\n",
       "      <th>632</th>\n",
       "      <td>i feel he is an terrific really worth bet</td>\n",
       "      <td>joy</td>\n",
       "      <td>joy</td>\n",
       "      <td>0.017559</td>\n",
       "    </tr>\n",
       "    <tr>\n",
       "      <th>1688</th>\n",
       "      <td>i feel very very rich and fulfilled and a part...</td>\n",
       "      <td>joy</td>\n",
       "      <td>joy</td>\n",
       "      <td>0.017666</td>\n",
       "    </tr>\n",
       "  </tbody>\n",
       "</table>\n",
       "</div>"
      ],
      "text/plain": [
       "                                                   text label predicted_label  \\\n",
       "1873  i feel practically virtuous this month i have ...   joy             joy   \n",
       "1147  i type i feel bouncy and excited to get out my...   joy             joy   \n",
       "19    i had lunch with an old friend and it was nice...   joy             joy   \n",
       "1495  i got a lot of ideas and feel like the weekend...   joy             joy   \n",
       "578   i got to christmas feeling positive about the ...   joy             joy   \n",
       "1320  im feeling positive but its impossible to desc...   joy             joy   \n",
       "1649  i feel relieved when she goes to bed because s...   joy             joy   \n",
       "1548              im not feeling very festive this year   joy             joy   \n",
       "632           i feel he is an terrific really worth bet   joy             joy   \n",
       "1688  i feel very very rich and fulfilled and a part...   joy             joy   \n",
       "\n",
       "          loss  \n",
       "1873  0.016905  \n",
       "1147  0.017012  \n",
       "19    0.017056  \n",
       "1495  0.017124  \n",
       "578   0.017240  \n",
       "1320  0.017314  \n",
       "1649  0.017512  \n",
       "1548  0.017526  \n",
       "632   0.017559  \n",
       "1688  0.017666  "
      ]
     },
     "execution_count": 69,
     "metadata": {},
     "output_type": "execute_result"
    }
   ],
   "source": [
    "# 가장 손실이 낮은 샘플\n",
    "df_test.sort_values(\"loss\", ascending=True).head(10)"
   ]
  },
  {
   "cell_type": "markdown",
   "id": "49b443a1",
   "metadata": {},
   "source": [
    "이제 joy가 이따금 레이블링이 잘못되고 모델은 sadness 레이블을 예측하는 데 가장 강하게 확신한다는 사실을 알았다.  \n",
    "훈련된 모델을 추론에 활용하기 전에 마지막 단계로 나중을 위해 모델을 저장해보자."
   ]
  },
  {
   "cell_type": "markdown",
   "id": "de2b4257",
   "metadata": {},
   "source": [
    "### 모델 저장 및 공유"
   ]
  },
  {
   "cell_type": "code",
   "execution_count": 70,
   "id": "b97ff0fc",
   "metadata": {},
   "outputs": [
    {
     "name": "stderr",
     "output_type": "stream",
     "text": [
      "Several commits (2) will be pushed upstream.\n",
      "The progress bars may be unreliable.\n",
      "Upload file pytorch_model.bin:   0%|                                                                       | 1.00/255M [00:00<?, ?B/s]\n",
      "Upload file pytorch_model.bin: 259MB [00:53, 7.02MB/s]                                                                                \u001b[ATo https://huggingface.co/bh8648/distilbert-base-uncased-finetuned-emotion\n",
      "   945eea5..121cd28  main -> main\n",
      "\n",
      "Upload file pytorch_model.bin: 100%|███████████████████████████████████████████████████████████████| 255M/255M [00:54<00:00, 4.95MB/s]\n",
      "\n",
      "Upload file runs/Jul14_09-36-26_jj-System-Product-Name/events.out.tfevents.1689294991.jj-System-Product-Name.4474.0: 100%|█| 5.36k/5.3\u001b[A\n",
      "Upload file runs/Jul14_09-36-26_jj-System-Product-Name/events.out.tfevents.1689294991.jj-System-Product-Name.4474.0: 100%|█| 5.36k/5.3\u001b[A\n",
      "To https://huggingface.co/bh8648/distilbert-base-uncased-finetuned-emotion\n",
      "   121cd28..875158f  main -> main\n",
      "\n"
     ]
    },
    {
     "data": {
      "text/plain": [
       "'https://huggingface.co/bh8648/distilbert-base-uncased-finetuned-emotion/commit/121cd28604a3073491ec7847ac1398a2f875bb82'"
      ]
     },
     "execution_count": 70,
     "metadata": {},
     "output_type": "execute_result"
    }
   ],
   "source": [
    "trainer.push_to_hub(commit_message=\"Training completed!\")"
   ]
  },
  {
   "cell_type": "code",
   "execution_count": 71,
   "id": "aa34e212",
   "metadata": {},
   "outputs": [
    {
     "name": "stderr",
     "output_type": "stream",
     "text": [
      "Downloading pytorch_model.bin: 100%|███████████████████████████████████████████████████████████████| 268M/268M [00:24<00:00, 11.1MB/s]\n"
     ]
    }
   ],
   "source": [
    "from transformers import pipeline\n",
    "\n",
    "# 허브사용자이름/model\n",
    "model_id = \"bh8648/distilbert-base-uncased-finetuned-emotion\"\n",
    "classifier = pipeline(\"text-classification\", model=model_id)"
   ]
  },
  {
   "cell_type": "code",
   "execution_count": 72,
   "id": "3de0293c",
   "metadata": {},
   "outputs": [
    {
     "name": "stderr",
     "output_type": "stream",
     "text": [
      "/home/jj/anaconda3/envs/deep/lib/python3.9/site-packages/transformers/pipelines/text_classification.py:104: UserWarning: `return_all_scores` is now deprecated,  if want a similar funcionality use `top_k=None` instead of `return_all_scores=True` or `top_k=1` instead of `return_all_scores=False`.\n",
      "  warnings.warn(\n"
     ]
    }
   ],
   "source": [
    "custom_tweet = \"I saw a movie today and it was really good. but tommorow, the final exam's score will be noticed. I'm really scarry\"\n",
    "preds = classifier(custom_tweet, return_all_scores=True)"
   ]
  },
  {
   "cell_type": "code",
   "execution_count": 73,
   "id": "08e0c86e",
   "metadata": {},
   "outputs": [
    {
     "data": {
      "image/png": "[encoded data removed]",
      "text/plain": [
       "<Figure size 640x480 with 1 Axes>"
      ]
     },
     "metadata": {},
     "output_type": "display_data"
    }
   ],
   "source": [
    "preds_df = pd.DataFrame(preds[0])\n",
    "plt.bar(labels, 100*preds_df[\"score\"], color='C0')\n",
    "plt.title(f'\"{custom_tweet}\"')\n",
    "plt.ylabel(\"Class probability (%)\")\n",
    "plt.show()"
   ]
  },
  {
   "cell_type": "code",
   "execution_count": null,
   "id": "46b6a0a3",
   "metadata": {},
   "outputs": [],
   "source": []
  },
  {
   "cell_type": "code",
   "execution_count": null,
   "id": "5b01a7cf",
   "metadata": {},
   "outputs": [],
   "source": []
  },
  {
   "cell_type": "code",
   "execution_count": null,
   "id": "9bf114b8",
   "metadata": {},
   "outputs": [],
   "source": []
  }
 ],
 "metadata": {
  "kernelspec": {
   "display_name": "Python 3 (ipykernel)",
   "language": "python",
   "name": "python3"
  },
  "language_info": {
   "codemirror_mode": {
    "name": "ipython",
    "version": 3
   },
   "file_extension": ".py",
   "mimetype": "text/x-python",
   "name": "python",
   "nbconvert_exporter": "python",
   "pygments_lexer": "ipython3",
   "version": "3.8.17"
  }
 },
 "nbformat": 4,
 "nbformat_minor": 5
}
